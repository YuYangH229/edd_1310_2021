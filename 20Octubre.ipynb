{
  "nbformat": 4,
  "nbformat_minor": 0,
  "metadata": {
    "colab": {
      "name": "20Octubre.ipynb",
      "provenance": [],
      "authorship_tag": "ABX9TyP2h012m4cEKDgoP4QFtbcU",
      "include_colab_link": true
    },
    "kernelspec": {
      "name": "python3",
      "display_name": "Python 3"
    }
  },
  "cells": [
    {
      "cell_type": "markdown",
      "metadata": {
        "id": "view-in-github",
        "colab_type": "text"
      },
      "source": [
        "<a href=\"https://colab.research.google.com/github/YuYangH229/edd_1310_2021/blob/master/20Octubre.ipynb\" target=\"_parent\"><img src=\"https://colab.research.google.com/assets/colab-badge.svg\" alt=\"Open In Colab\"/></a>"
      ]
    },
    {
      "cell_type": "markdown",
      "metadata": {
        "id": "u21HcwnJ2s9x"
      },
      "source": [
        "# Sintaxis del for en Python\n",
        "  dos variables de for\n",
        " - range\n",
        " - in iterador"
      ]
    },
    {
      "cell_type": "code",
      "metadata": {
        "id": "7P9lRY5O2rDp",
        "outputId": "fd8bd278-15b3-495f-8df6-6efc6290e515",
        "colab": {
          "base_uri": "https://localhost:8080/",
          "height": 238
        }
      },
      "source": [
        "r = range (0,10,2)\n",
        "for x in r:\n",
        "  print(x)\n",
        "\n",
        "colores = ['rojo' , 'azul' , 'rosa' , 'negro']\n",
        "for indice in range (0,4,1):\n",
        "  print(colores[indice])\n",
        "\n",
        "for col in colores:\n",
        "  print(col)"
      ],
      "execution_count": 5,
      "outputs": [
        {
          "output_type": "stream",
          "text": [
            "0\n",
            "2\n",
            "4\n",
            "6\n",
            "8\n",
            "rojo\n",
            "azul\n",
            "rosa\n",
            "negro\n",
            "rojo\n",
            "azul\n",
            "rosa\n",
            "negro\n"
          ],
          "name": "stdout"
        }
      ]
    },
    {
      "cell_type": "markdown",
      "metadata": {
        "id": "Zc-LXseI8Meu"
      },
      "source": [
        "# Generadores\n",
        "[ valor for x in range (10) ]\n"
      ]
    },
    {
      "cell_type": "code",
      "metadata": {
        "id": "0aFuLtnp7zrJ",
        "outputId": "809631d0-cc37-4991-b7e8-602d2ca01fc9",
        "colab": {
          "base_uri": "https://localhost:8080/",
          "height": 51
        }
      },
      "source": [
        "lista = [0 for x in range (10)]\n",
        "print (lista)\n",
        "lista = [[0 for x in range (3)] for x in range (3)]\n",
        "print (lista)"
      ],
      "execution_count": 9,
      "outputs": [
        {
          "output_type": "stream",
          "text": [
            "[0, 0, 0, 0, 0, 0, 0, 0, 0, 0]\n",
            "[[0, 0, 0], [0, 0, 0], [0, 0, 0]]\n"
          ],
          "name": "stdout"
        }
      ]
    },
    {
      "cell_type": "markdown",
      "metadata": {
        "id": "yoULBW_5_VrV"
      },
      "source": [
        "# POO en Python\n",
        " - clase\n",
        " - creacion de objetos\n",
        " - constructor\n",
        " - encapsulamiento\n",
        " - método\n",
        " - atributos\n",
        " - herencia"
      ]
    },
    {
      "cell_type": "code",
      "metadata": {
        "id": "u0K-P7yw_l1C",
        "outputId": "16a96e33-6176-45e6-9c8f-f3bbc18de4f0",
        "colab": {
          "base_uri": "https://localhost:8080/",
          "height": 34
        }
      },
      "source": [
        "class  Computadora:\n",
        "  def __init__( self , m , p ):\n",
        "    self.__marca = m\n",
        "    self.__procesador = p\n",
        "  \n",
        "  def to_string( self ):\n",
        "    return \"MArca:\" +self.__marca + \" Procesador: \" +self.__procesador\n",
        "\n",
        "mi_pc = Computadora(\"Toshiba\",\"Intel i7\")\n",
        "mi_pc.__marca = \"HP\"\n",
        "print (mi_pc.to_string())"
      ],
      "execution_count": 17,
      "outputs": [
        {
          "output_type": "stream",
          "text": [
            "MArca:Toshiba Procesador: Intel i7\n"
          ],
          "name": "stdout"
        }
      ]
    }
  ]
}