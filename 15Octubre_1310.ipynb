{
  "nbformat": 4,
  "nbformat_minor": 0,
  "metadata": {
    "colab": {
      "name": "15Octubre_1310.ipynb",
      "provenance": [],
      "authorship_tag": "ABX9TyPQft3kgYfBxaVZtr+S+VhU",
      "include_colab_link": true
    },
    "kernelspec": {
      "name": "python3",
      "display_name": "Python 3"
    }
  },
  "cells": [
    {
      "cell_type": "markdown",
      "metadata": {
        "id": "view-in-github",
        "colab_type": "text"
      },
      "source": [
        "<a href=\"https://colab.research.google.com/github/YuYangH229/edd_1310_2021/blob/master/15Octubre_1310.ipynb\" target=\"_parent\"><img src=\"https://colab.research.google.com/assets/colab-badge.svg\" alt=\"Open In Colab\"/></a>"
      ]
    },
    {
      "cell_type": "markdown",
      "metadata": {
        "id": "93pB52yGBx-k"
      },
      "source": [
        "# Modulos\n",
        "  recursos utilizables que contiene varias funciones que puede ser importados a tu codigo"
      ]
    },
    {
      "cell_type": "code",
      "metadata": {
        "id": "Toy4lAMOCFYB",
        "outputId": "c4006e00-409d-4f1f-8b60-c1ad220e28cc",
        "colab": {
          "base_uri": "https://localhost:8080/",
          "height": 69
        }
      },
      "source": [
        "\"\"\"\n",
        "import mi_modulo\n",
        "x = mi_modulo.sumar(10 , 5)\n",
        "print (x)\n",
        "x = mi_modulo.restar(10 , 5)\n",
        "print (x)\n",
        "x = mi_modulo.multiplicar(10 , 5)\n",
        "print (x)\n",
        "x = mi_modulo.dividir(10 , 150)\n",
        "print (x)\n",
        "\"\"\"\n"
      ],
      "execution_count": null,
      "outputs": [
        {
          "output_type": "execute_result",
          "data": {
            "application/vnd.google.colaboratory.intrinsic+json": {
              "type": "string"
            },
            "text/plain": [
              "'\\nimport mi_modulo\\nx = mi_modulo.sumar(10 , 5)\\nprint (x)\\nx = mi_modulo.restar(10 , 5)\\nprint (x)\\nx = mi_modulo.multiplicar(10 , 5)\\nprint (x)\\nx = mi_modulo.dividir(10 , 150)\\nprint (x)\\n'"
            ]
          },
          "metadata": {
            "tags": []
          },
          "execution_count": 6
        }
      ]
    },
    {
      "cell_type": "code",
      "metadata": {
        "id": "xqTy7gwYHcLU",
        "outputId": "6bf37929-4d4f-4cb8-d3b9-298dcbd30745",
        "colab": {
          "base_uri": "https://localhost:8080/",
          "height": 51
        }
      },
      "source": [
        "from mi_modulo import sumar, dividir\n",
        "print (sumar(4 , 7))\n",
        "print (dividir(25 , 5))"
      ],
      "execution_count": null,
      "outputs": [
        {
          "output_type": "stream",
          "text": [
            "11\n",
            "5.0\n"
          ],
          "name": "stdout"
        }
      ]
    },
    {
      "cell_type": "code",
      "metadata": {
        "id": "2U6g-lVjLVRK",
        "outputId": "17bec704-f549-4c1c-cf74-29120dfa0dab",
        "colab": {
          "base_uri": "https://localhost:8080/",
          "height": 34
        }
      },
      "source": [
        "import mi_modulo as gatito\n",
        "print (gatito.sumar(3 , 7))"
      ],
      "execution_count": null,
      "outputs": [
        {
          "output_type": "stream",
          "text": [
            "10\n"
          ],
          "name": "stdout"
        }
      ]
    },
    {
      "cell_type": "code",
      "metadata": {
        "id": "7drdmNMCN_4E",
        "outputId": "6d8c0880-ff7a-4ed3-93f9-a8a4910c1236",
        "colab": {
          "base_uri": "https://localhost:8080/",
          "height": 52
        }
      },
      "source": [
        "from joke_generator import generate\n",
        "\n",
        "generate ()"
      ],
      "execution_count": null,
      "outputs": [
        {
          "output_type": "execute_result",
          "data": {
            "application/vnd.google.colaboratory.intrinsic+json": {
              "type": "string"
            },
            "text/plain": [
              "'My friend told me that pepper is the best seasoning for a roast, but I took it with a grain of salt.'"
            ]
          },
          "metadata": {
            "tags": []
          },
          "execution_count": 20
        }
      ]
    },
    {
      "cell_type": "markdown",
      "metadata": {
        "id": "FC07-ZJISQNM"
      },
      "source": [
        "# Archivo\n",
        "- open (String , String)\n",
        "  1. Nombre o ruta de archivo\n",
        "  2. Dos caracteres\n",
        "    - Modo de apertura del archivo (r , w , a append si y solo si el archivo existe, x append si y solo si el archivo no existe, ) \n",
        "    - Formato del archivo (t o b)\n"
      ]
    },
    {
      "cell_type": "code",
      "metadata": {
        "id": "LeO8Ms2DTtDf",
        "outputId": "9884c5da-a758-48a6-a714-7962cc256dd6",
        "colab": {
          "base_uri": "https://localhost:8080/",
          "height": 34
        }
      },
      "source": [
        "archivo = open(\"saludo.txt\", \"wt\")\n",
        "archivo.write(\"Hola mundo \\n Ola ke aze\")\n"
      ],
      "execution_count": null,
      "outputs": [
        {
          "output_type": "execute_result",
          "data": {
            "text/plain": [
              "23"
            ]
          },
          "metadata": {
            "tags": []
          },
          "execution_count": 30
        }
      ]
    },
    {
      "cell_type": "code",
      "metadata": {
        "id": "Zno4zV9XUmF2"
      },
      "source": [
        "otro = open (\"./sample_data/anscombe.json\", \"rt\")\n",
        "datos = otro.read()\n",
        "print (datos)\n",
        "otro.close"
      ],
      "execution_count": null,
      "outputs": []
    },
    {
      "cell_type": "code",
      "metadata": {
        "id": "AZrRxGRDWn0e",
        "outputId": "1edb5954-31ba-4dae-928e-9f7105da27ff",
        "colab": {
          "base_uri": "https://localhost:8080/",
          "height": 190
        }
      },
      "source": [
        "arch = open('frutas.txt','rt')\n",
        "data = 'ppp'\n",
        "while (data != ''):\n",
        "  data = arch.readline()\n",
        "  print (data)\n",
        "arch.close\n",
        "\n",
        "arch = open('frutas.txt','rt')\n",
        "list_frutas = arch.readlines()\n",
        "print (list_frutas)\n",
        "arch.close"
      ],
      "execution_count": null,
      "outputs": [
        {
          "output_type": "stream",
          "text": [
            "manzana, peras,   kiwi   , aguacate\n",
            "\n",
            "limon,    naranja  \n",
            "\n",
            "sandia,papaya\n",
            "\n",
            "\n",
            "['manzana, peras,   kiwi   , aguacate\\n', 'limon,    naranja  \\n', 'sandia,papaya\\n']\n"
          ],
          "name": "stdout"
        },
        {
          "output_type": "execute_result",
          "data": {
            "text/plain": [
              "<function TextIOWrapper.close>"
            ]
          },
          "metadata": {
            "tags": []
          },
          "execution_count": 48
        }
      ]
    }
  ]
}