{
  "nbformat": 4,
  "nbformat_minor": 0,
  "metadata": {
    "colab": {
      "name": "13Octubre_1310.ipynb",
      "provenance": [],
      "authorship_tag": "ABX9TyNd6gyuaojwBs5gTR40WGhZ",
      "include_colab_link": true
    },
    "kernelspec": {
      "name": "python3",
      "display_name": "Python 3"
    }
  },
  "cells": [
    {
      "cell_type": "markdown",
      "metadata": {
        "id": "view-in-github",
        "colab_type": "text"
      },
      "source": [
        "<a href=\"https://colab.research.google.com/github/YuYangH229/edd_1310_2021/blob/master/13Octubre_1310.ipynb\" target=\"_parent\"><img src=\"https://colab.research.google.com/assets/colab-badge.svg\" alt=\"Open In Colab\"/></a>"
      ]
    },
    {
      "cell_type": "code",
      "metadata": {
        "id": "NM7ybTE-t44R"
      },
      "source": [
        "alumno = { \n",
        "          \"num_cta\" : 303030303 ,\n",
        "          \"carrera\" : \"ICO\",\n",
        "          \"promedio\" : 9.8,\n",
        "          \"materias\" :[\"EDD\",\"CyP\",\"Calidad\",\"Emprendimiento\"],\n",
        "          \"direccion\" : { \n",
        "                            \"calle\":\"rancho seco\",\n",
        "                            \"numero\" : 23 ,\n",
        "                            \"delegacion\" : \"Neza\",\n",
        "                            \"estado\" : {\n",
        "                                        \"id\" : 15 ,\n",
        "                                        \"nombre\" : \"Estado de Máxico\" ,\n",
        "                                        \"nombre_corto\" : \"EdoMex\"\n",
        "                                        } ,\n",
        "                            \"CP\":57170\n",
        "\n",
        "                        } \n",
        "          }\n",
        "print (alumno)\n",
        "alumno[\"carrera\"] = \"ingenieria en computacion\"\n",
        "print (alumno)\n",
        "alumno [\"nombre_completo\"] = {\"primer \": \"Juan\",\n",
        "                              \"segundo\": \"Pedro\",\n",
        "                              \"materno\": \"perez\",\n",
        "                              \"paterno\": \"gomez\"\n",
        "                              }\n",
        "alumno [\"semestre\"] = 3\n",
        "print (alumno)\n",
        "\n",
        "\n",
        "print(f\"{alumno[\"nombre_completo\"][\"primer\"]} {alumno[\"nombre_completo\"][\"segundo\"]}\")"
      ],
      "execution_count": null,
      "outputs": []
    },
    {
      "cell_type": "code",
      "metadata": {
        "id": "1pRAq7Dzx-50",
        "outputId": "cb40d070-8740-4fce-d71c-2477413646de",
        "colab": {
          "base_uri": "https://localhost:8080/",
          "height": 428
        }
      },
      "source": [
        "#key() , values() , y items()\n",
        "\n",
        "llaves = alumno.keys()\n",
        "print (llaves)\n",
        "\n",
        "for llave in llaves: \n",
        "  print (llave.upper())\n",
        "\n",
        "valores = alumno.values()\n",
        "for val in valores:\n",
        "  print (val)\n",
        "\n",
        "pares = alumno.items()\n",
        "print (pares)\n",
        "\n",
        "for elem in pares:\n",
        "  print (f\"el campo { elem[0]} tiene un valor {elem[1]}\")\n",
        "\n",
        "  "
      ],
      "execution_count": 11,
      "outputs": [
        {
          "output_type": "stream",
          "text": [
            "dict_keys(['num_cta', 'carrera', 'promedio', 'materias', 'direccion', 'nombre_completo', 'semestre'])\n",
            "NUM_CTA\n",
            "CARRERA\n",
            "PROMEDIO\n",
            "MATERIAS\n",
            "DIRECCION\n",
            "NOMBRE_COMPLETO\n",
            "SEMESTRE\n",
            "303030303\n",
            "ingenieria en computacion\n",
            "9.8\n",
            "['EDD', 'CyP', 'Calidad', 'Emprendimiento']\n",
            "{'calle': 'rancho seco', 'numero': 23, 'delegacion': 'Neza', 'estado': {'id': 15, 'nombre': 'Estado de Máxico', 'nombre_corto': 'EdoMex'}, 'CP': 57170}\n",
            "{'primer ': 'Juan', 'segundo': 'Pedro', 'materno': 'perez', 'paterno': 'gomez'}\n",
            "3\n",
            "dict_items([('num_cta', 303030303), ('carrera', 'ingenieria en computacion'), ('promedio', 9.8), ('materias', ['EDD', 'CyP', 'Calidad', 'Emprendimiento']), ('direccion', {'calle': 'rancho seco', 'numero': 23, 'delegacion': 'Neza', 'estado': {'id': 15, 'nombre': 'Estado de Máxico', 'nombre_corto': 'EdoMex'}, 'CP': 57170}), ('nombre_completo', {'primer ': 'Juan', 'segundo': 'Pedro', 'materno': 'perez', 'paterno': 'gomez'}), ('semestre', 3)])\n",
            "el campo num_cta tiene un valor 303030303\n",
            "el campo carrera tiene un valor ingenieria en computacion\n",
            "el campo promedio tiene un valor 9.8\n",
            "el campo materias tiene un valor ['EDD', 'CyP', 'Calidad', 'Emprendimiento']\n",
            "el campo direccion tiene un valor {'calle': 'rancho seco', 'numero': 23, 'delegacion': 'Neza', 'estado': {'id': 15, 'nombre': 'Estado de Máxico', 'nombre_corto': 'EdoMex'}, 'CP': 57170}\n",
            "el campo nombre_completo tiene un valor {'primer ': 'Juan', 'segundo': 'Pedro', 'materno': 'perez', 'paterno': 'gomez'}\n",
            "el campo semestre tiene un valor 3\n"
          ],
          "name": "stdout"
        }
      ]
    },
    {
      "cell_type": "code",
      "metadata": {
        "id": "NdRcAEcM0-YZ",
        "outputId": "bab8ec53-3f4d-4892-fd12-a8b009b449c9",
        "colab": {
          "base_uri": "https://localhost:8080/",
          "height": 51
        }
      },
      "source": [
        "computadora = {\"procesador\" : \"intel i7\" , \"ram\" : \"kingston 128GB\"}\n",
        "otros = {\"monitor\" : \"LG 49\\\"\" , \"hd\" : \"Toshiba 1TB\"}\n",
        "print (computadora, otros)\n",
        "computadora.update (otros)\n",
        "print (computadora)"
      ],
      "execution_count": 15,
      "outputs": [
        {
          "output_type": "stream",
          "text": [
            "{'procesador': 'intel i7', 'ram': 'kingston 128GB'} {'monitor': 'LG 49\"', 'hd': 'Toshiba 1TB'}\n",
            "{'procesador': 'intel i7', 'ram': 'kingston 128GB', 'monitor': 'LG 49\"', 'hd': 'Toshiba 1TB'}\n"
          ],
          "name": "stdout"
        }
      ]
    },
    {
      "cell_type": "markdown",
      "metadata": {
        "id": "5rognJPj247P"
      },
      "source": [
        "#funciones\n",
        "- unidades de codigo reutilizable\n",
        "- es un mecanismo de organizacion de codigo\n",
        "- una funcion toma de 0 a n parametros de entrada\n",
        "- tiene una sola salida (return) de cualquier tipo de dato\n",
        "- siki oyedes gacer 2 cosas \n",
        "  - definirla\n",
        "  - llamarla\n",
        "- se define con la palabra reservada \"def\""
      ]
    },
    {
      "cell_type": "code",
      "metadata": {
        "id": "bCsFYvXW3g3h",
        "outputId": "f4252de1-d68d-46a4-b802-32ab1c083187",
        "colab": {
          "base_uri": "https://localhost:8080/",
          "height": 119
        }
      },
      "source": [
        "def sumar (x, y): \n",
        "  resultado = x + y\n",
        "  return resultado\n",
        "\n",
        "def saludar (nombre): \n",
        "  print(f\"Hola {nombre}, ¿Cómo estás?\")\n",
        "  return None #recomendacion de programacion\n",
        "\n",
        "def multiplicar (valor, veces):\n",
        "  c=valor * veces\n",
        "  return c\n",
        "\n",
        "def operacion (a, b, c): \n",
        "  res = a+ (b/c)\n",
        "  return res\n",
        "\n",
        "\n",
        "print (sumar(10, 5))\n",
        "print (sumar(2, 10))\n",
        "saludar(\"Yang\")\n",
        "print (multiplicar (5, 6))\n",
        "print (operacion(2,9,3))\n",
        "print (operacion (2, 3, 9))"
      ],
      "execution_count": 22,
      "outputs": [
        {
          "output_type": "stream",
          "text": [
            "15\n",
            "12\n",
            "Hola Yang, ¿Cómo estás?\n",
            "30\n",
            "5.0\n",
            "2.3333333333333335\n"
          ],
          "name": "stdout"
        }
      ]
    },
    {
      "cell_type": "code",
      "metadata": {
        "id": "hVpchlkG-iTu",
        "outputId": "df6beac5-03c6-44f7-9d1e-e514c85f5f44",
        "colab": {
          "base_uri": "https://localhost:8080/",
          "height": 153
        }
      },
      "source": [
        "#valores por defecto \n",
        "def comanda(entrada , fuerte , postre = \"galleta de animalito\"): \n",
        "  print (f\"De entrada pidio: {entrada}\")\n",
        "  print (f\"De plato fuerte pidio: {fuerte}\")\n",
        "  print (f\"De porstre pidio: {postre}\")\n",
        "\n",
        "def comanda_2( *opciones): \n",
        "  print (f\"De entrada pidio: {opciones[0]}\")\n",
        "  print (f\"De plato fuerte pidio: {opciones[1]}\")\n",
        "  print (f\"De porstre pidio: {opciones[2]}\")\n",
        "  print (\"\\nIndicaciones extras: \")\n",
        "  for ind in opciones [3::]:\n",
        "      print(f\"\\t{ind}\")\n",
        "\n",
        "comanda_2(\"sopa\", \"tortas\", \"gelatina\", \"las tortas bien doradas\", \"traer 2 limones\", \"agua con hielo\")\n",
        "\n",
        "\n",
        "#comanda(\"sopa aguada\", \"Arrachera\", \"Gelatina de limon\")\n",
        "#comanda (\"Sopa\", \"Corte de rib-eye\")"
      ],
      "execution_count": 30,
      "outputs": [
        {
          "output_type": "stream",
          "text": [
            "De entrada pidio: sopa\n",
            "De plato fuerte pidio: tortas\n",
            "De porstre pidio: gelatina\n",
            "\n",
            "Indicaciones extras: \n",
            "\tlas tortas bien doradas\n",
            "\ttraer 2 limones\n",
            "\tagua con hielo\n"
          ],
          "name": "stdout"
        }
      ]
    },
    {
      "cell_type": "code",
      "metadata": {
        "id": "UbuxGW8HB8Sy",
        "outputId": "2955d333-3007-4a54-ca9c-079ad07d87a7",
        "colab": {
          "base_uri": "https://localhost:8080/",
          "height": 136
        }
      },
      "source": [
        "# argumentos posicionales con diccionarios ** \n",
        "def comanda_3 (**opciones): \n",
        "  print (opciones)\n",
        "  for op in opciones.items():\n",
        "    print (f\"{op[0]} -> {op[1]}\")\n",
        "comanda_3(primer = \"sopa\", fuerte = \"tortas\", postre = \"gelatina\", extra1 = \"las tortas bien doradas\", extra2 = \"traer 2 limones\", extra3 = \"agua con hielo\")"
      ],
      "execution_count": 33,
      "outputs": [
        {
          "output_type": "stream",
          "text": [
            "{'primer': 'sopa', 'fuerte': 'tortas', 'postre': 'gelatina', 'extra1': 'las tortas bien doradas', 'extra2': 'traer 2 limones', 'extra3': 'agua con hielo'}\n",
            "primer -> sopa\n",
            "fuerte -> tortas\n",
            "postre -> gelatina\n",
            "extra1 -> las tortas bien doradas\n",
            "extra2 -> traer 2 limones\n",
            "extra3 -> agua con hielo\n"
          ],
          "name": "stdout"
        }
      ]
    }
  ]
}