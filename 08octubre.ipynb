{
  "nbformat": 4,
  "nbformat_minor": 0,
  "metadata": {
    "colab": {
      "name": "08octubre.ipynb",
      "provenance": [],
      "collapsed_sections": [],
      "authorship_tag": "ABX9TyP47NCG7mjKz4q89xdhAZMt",
      "include_colab_link": true
    },
    "kernelspec": {
      "name": "python3",
      "display_name": "Python 3"
    }
  },
  "cells": [
    {
      "cell_type": "markdown",
      "metadata": {
        "id": "view-in-github",
        "colab_type": "text"
      },
      "source": [
        "<a href=\"https://colab.research.google.com/github/YuYangH229/edd_1310_2021/blob/master/08octubre.ipynb\" target=\"_parent\"><img src=\"https://colab.research.google.com/assets/colab-badge.svg\" alt=\"Open In Colab\"/></a>"
      ]
    },
    {
      "cell_type": "code",
      "metadata": {
        "id": "9zt7t2df9h5c",
        "outputId": "22da9c3f-7b2d-4b35-a4f3-8d8d11b679e6",
        "colab": {
          "base_uri": "https://localhost:8080/",
          "height": 85
        }
      },
      "source": [
        "monitores =[[\"Samsung\",\"17.3 \\\"\",1024],[\"BenQ\",\"40\\\"\",2048]]\n",
        "procesadores = [[\"Intel\",\"i7\",3.4],[\"AMD\",\"razzer\",3.3],[\"Intel\",\"i3\",3.1]]\n",
        "memorias = [[\"Kingston\", \"8GB\",\"DDR4\"],[\"Kingston\", \"16GB\",\"DDR3\"],[\"ADATA\", \"32GB\",\"DDR4\"]]\n",
        "\n",
        "componentes = [monitores,procesadores,memorias]\n",
        "print (componentes[2][1][1])\n",
        "a = componentes[0][1][2] * 2\n",
        "print (a)\n",
        "print (componentes[1][1][1][1:4])\n",
        "print(componentes[2][2][0].lower())\n"
      ],
      "execution_count": 19,
      "outputs": [
        {
          "output_type": "stream",
          "text": [
            "16GB\n",
            "4096\n",
            "azz\n",
            "adata\n"
          ],
          "name": "stdout"
        }
      ]
    },
    {
      "cell_type": "code",
      "metadata": {
        "id": "MKE6uSpUJfkO"
      },
      "source": [
        "\n",
        "frutas =[\"manzana\",\"pera\"]\n",
        "otras_frutas = [\"aguacate\",\"sandia\"]\n",
        "\n",
        "#+ sobre listas\n",
        "#frutas = frutas + otras_frutas\n",
        "#print (frutas)\n",
        "\n",
        "# funcion extend\n",
        "frutas.extend(otras_frutas)\n",
        "print (frutas)\n",
        "\n",
        "colores = (\"rojo\" , \"azul\" , \"verde\")\n",
        "#otros_colores = (\"rosa\" , \"violeta\")\n",
        "otros_colores = colores\n",
        "print (colores)\n",
        "print (otros_colores)\n",
        "\n",
        "una_mas = colores.copy()\n",
        "print (una_mas)"
      ],
      "execution_count": null,
      "outputs": []
    },
    {
      "cell_type": "code",
      "metadata": {
        "id": "wkNrLDilPYAi",
        "outputId": "23692676-6e48-48ba-cdfb-3b6c50e6a14f",
        "colab": {
          "base_uri": "https://localhost:8080/",
          "height": 68
        }
      },
      "source": [
        "alumno = (\"Yang\" , \"Yu\" , \" \" , 20 , \"ICO\" , 8.5)\n",
        "nombre,paterno,materno,edad,carrera,promedio = alumno\n",
        "print (f\"Alumno: {nombre} \\ncarrera: {carrera} \\npromedio = {promedio}\")"
      ],
      "execution_count": 5,
      "outputs": [
        {
          "output_type": "stream",
          "text": [
            "Alumno: Yang \n",
            "carrera: ICO \n",
            "promedio = 8.5\n"
          ],
          "name": "stdout"
        }
      ]
    },
    {
      "cell_type": "markdown",
      "metadata": {
        "id": "60ziyb0HR2vF"
      },
      "source": [
        "# tuplas\n",
        "\n",
        "- se declara con ()\n",
        "- selector con []\n",
        "- no son mutables\n",
        "\n",
        "# Diccionarios\n",
        "\n",
        "- son mutables\n",
        "- se declara con llaves\n",
        "- conjunto de pares llave: valor\n",
        "- equivalente a los Objetos JSON de JavaScript"
      ]
    },
    {
      "cell_type": "code",
      "metadata": {
        "id": "tVPab0TfT88I",
        "outputId": "46ac8d18-f38a-477a-c4eb-ec48b29cc737",
        "colab": {
          "base_uri": "https://localhost:8080/",
          "height": 51
        }
      },
      "source": [
        "cliente = {}\n",
        "alumno = {   \"num_cta\"   : 314755816}\n",
        "print (alumno)\n",
        "\n",
        "alumno = {  \"num_cta\": 303303036, \n",
        "            \"nombre\": \"ivan\",\n",
        "            \"promedio\": 8.5\n",
        "            }\n",
        "print (alumno)\n",
        "\n"
      ],
      "execution_count": 3,
      "outputs": [
        {
          "output_type": "stream",
          "text": [
            "{'num_cta': 314755816}\n",
            "{'num_cta': 303303036, 'nombre': 'ivan', 'promedio': 8.5}\n"
          ],
          "name": "stdout"
        }
      ]
    },
    {
      "cell_type": "code",
      "metadata": {
        "id": "RpprcaUUXYZI",
        "outputId": "0f646534-0a60-40a2-987b-78d1a7addd34",
        "colab": {
          "base_uri": "https://localhost:8080/",
          "height": 34
        }
      },
      "source": [
        "libro = {\n",
        "    \"titulo\": \" \",\n",
        "    \"año de publicacion\": 2014,\n",
        "    \"editorial\": \"Trilla\",\n",
        "    \"autor\": \" \",\n",
        "    \"edicion\": \"8vo\"\n",
        "}"
      ],
      "execution_count": 4,
      "outputs": [
        {
          "output_type": "stream",
          "text": [
            "{'titulo': ' ', 'año de publicacion': 2014, 'editorial': 'Trilla', 'autor': ' ', 'edicion': '8vo'}\n"
          ],
          "name": "stdout"
        }
      ]
    }
  ]
}