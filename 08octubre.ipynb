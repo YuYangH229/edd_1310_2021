{
  "nbformat": 4,
  "nbformat_minor": 0,
  "metadata": {
    "colab": {
      "name": "08octubre.ipynb",
      "provenance": [],
      "collapsed_sections": [],
      "authorship_tag": "ABX9TyP63jfH16Z5lMc8/+nY5pED",
      "include_colab_link": true
    },
    "kernelspec": {
      "name": "python3",
      "display_name": "Python 3"
    }
  },
  "cells": [
    {
      "cell_type": "markdown",
      "metadata": {
        "id": "view-in-github",
        "colab_type": "text"
      },
      "source": [
        "<a href=\"https://colab.research.google.com/github/YuYangH229/edd_1310_2021/blob/master/08octubre.ipynb\" target=\"_parent\"><img src=\"https://colab.research.google.com/assets/colab-badge.svg\" alt=\"Open In Colab\"/></a>"
      ]
    },
    {
      "cell_type": "code",
      "metadata": {
        "id": "9zt7t2df9h5c",
        "outputId": "22da9c3f-7b2d-4b35-a4f3-8d8d11b679e6",
        "colab": {
          "base_uri": "https://localhost:8080/",
          "height": 85
        }
      },
      "source": [
        "monitores =[[\"Samsung\",\"17.3 \\\"\",1024],[\"BenQ\",\"40\\\"\",2048]]\n",
        "procesadores = [[\"Intel\",\"i7\",3.4],[\"AMD\",\"razzer\",3.3],[\"Intel\",\"i3\",3.1]]\n",
        "memorias = [[\"Kingston\", \"8GB\",\"DDR4\"],[\"Kingston\", \"16GB\",\"DDR3\"],[\"ADATA\", \"32GB\",\"DDR4\"]]\n",
        "\n",
        "componentes = [monitores,procesadores,memorias]\n",
        "print (componentes[2][1][1])\n",
        "a = componentes[0][1][2] * 2\n",
        "print (a)\n",
        "print (componentes[1][1][1][1:4])\n",
        "print(componentes[2][2][0].lower())\n"
      ],
      "execution_count": 19,
      "outputs": [
        {
          "output_type": "stream",
          "text": [
            "16GB\n",
            "4096\n",
            "azz\n",
            "adata\n"
          ],
          "name": "stdout"
        }
      ]
    },
    {
      "cell_type": "code",
      "metadata": {
        "id": "MKE6uSpUJfkO",
        "outputId": "7e7515d8-f031-4deb-c04f-ee50c0e0dac4",
        "colab": {
          "base_uri": "https://localhost:8080/",
          "height": 265
        }
      },
      "source": [
        "\n",
        "frutas =[\"manzana\",\"pera\"]\n",
        "otras_frutas = [\"aguacate\",\"sandia\"]\n",
        "\n",
        "#+ sobre listas\n",
        "#frutas = frutas + otras_frutas\n",
        "#print (frutas)\n",
        "\n",
        "# funcion extend\n",
        "frutas.extend(otras_frutas)\n",
        "print (frutas)\n",
        "\n",
        "colores = (\"rojo\" , \"azul\" , \"verde\")\n",
        "#otros_colores = (\"rosa\" , \"violeta\")\n",
        "otros_colores = colores\n",
        "print (colores)\n",
        "print (otros_colores)\n",
        "\n",
        "una_mas = colores.copy()\n",
        "print (una_mas)"
      ],
      "execution_count": 1,
      "outputs": [
        {
          "output_type": "stream",
          "text": [
            "['manzana', 'pera', 'aguacate', 'sandia']\n",
            "('rojo', 'azul', 'verde')\n",
            "('rojo', 'azul', 'verde')\n"
          ],
          "name": "stdout"
        },
        {
          "output_type": "error",
          "ename": "AttributeError",
          "evalue": "ignored",
          "traceback": [
            "\u001b[0;31m---------------------------------------------------------------------------\u001b[0m",
            "\u001b[0;31mAttributeError\u001b[0m                            Traceback (most recent call last)",
            "\u001b[0;32m<ipython-input-1-86429e727beb>\u001b[0m in \u001b[0;36m<module>\u001b[0;34m()\u001b[0m\n\u001b[1;32m     17\u001b[0m \u001b[0mprint\u001b[0m \u001b[0;34m(\u001b[0m\u001b[0motros_colores\u001b[0m\u001b[0;34m)\u001b[0m\u001b[0;34m\u001b[0m\u001b[0;34m\u001b[0m\u001b[0m\n\u001b[1;32m     18\u001b[0m \u001b[0;34m\u001b[0m\u001b[0m\n\u001b[0;32m---> 19\u001b[0;31m \u001b[0muna_mas\u001b[0m \u001b[0;34m=\u001b[0m \u001b[0mcolores\u001b[0m\u001b[0;34m.\u001b[0m\u001b[0mcopy\u001b[0m\u001b[0;34m(\u001b[0m\u001b[0;34m)\u001b[0m\u001b[0;34m\u001b[0m\u001b[0;34m\u001b[0m\u001b[0m\n\u001b[0m\u001b[1;32m     20\u001b[0m \u001b[0mprint\u001b[0m \u001b[0;34m(\u001b[0m\u001b[0muna_mas\u001b[0m\u001b[0;34m)\u001b[0m\u001b[0;34m\u001b[0m\u001b[0;34m\u001b[0m\u001b[0m\n",
            "\u001b[0;31mAttributeError\u001b[0m: 'tuple' object has no attribute 'copy'"
          ]
        }
      ]
    },
    {
      "cell_type": "code",
      "metadata": {
        "id": "wkNrLDilPYAi",
        "outputId": "23692676-6e48-48ba-cdfb-3b6c50e6a14f",
        "colab": {
          "base_uri": "https://localhost:8080/",
          "height": 68
        }
      },
      "source": [
        "alumno = (\"Yang\" , \"Yu\" , \" \" , 20 , \"ICO\" , 8.5)\n",
        "nombre,paterno,materno,edad,carrera,promedio = alumno\n",
        "print (f\"Alumno: {nombre} \\ncarrera: {carrera} \\npromedio = {promedio}\")"
      ],
      "execution_count": 5,
      "outputs": [
        {
          "output_type": "stream",
          "text": [
            "Alumno: Yang \n",
            "carrera: ICO \n",
            "promedio = 8.5\n"
          ],
          "name": "stdout"
        }
      ]
    }
  ]
}