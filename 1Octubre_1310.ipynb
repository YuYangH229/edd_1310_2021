{
  "nbformat": 4,
  "nbformat_minor": 0,
  "metadata": {
    "colab": {
      "name": "1Octubre_1310.ipynb",
      "provenance": [],
      "authorship_tag": "ABX9TyOJjhj3KvTNohS+atHWdZXg",
      "include_colab_link": true
    },
    "kernelspec": {
      "name": "python3",
      "display_name": "Python 3"
    }
  },
  "cells": [
    {
      "cell_type": "markdown",
      "metadata": {
        "id": "view-in-github",
        "colab_type": "text"
      },
      "source": [
        "<a href=\"https://colab.research.google.com/github/YuYangH229/edd_1310_2021/blob/master/1Octubre_1310.ipynb\" target=\"_parent\"><img src=\"https://colab.research.google.com/assets/colab-badge.svg\" alt=\"Open In Colab\"/></a>"
      ]
    },
    {
      "cell_type": "markdown",
      "metadata": {
        "id": "Si7IWEIv7v9s"
      },
      "source": [
        "## intro Python"
      ]
    },
    {
      "cell_type": "code",
      "metadata": {
        "id": "Dlpe0Bv-7s9J",
        "outputId": "6c3cb6f2-ac45-4925-d074-e9ec3e539901",
        "colab": {
          "base_uri": "https://localhost:8080/",
          "height": 153
        }
      },
      "source": [
        "escuela = \"Fes Aragon\"\n",
        "print(escuela)\n",
        "print (\"----------\")\n",
        "edad = 20\n",
        "estatura = 1.71\n",
        "fumador = False\n",
        "frase = \"\"\"\n",
        "Esta es una frase \n",
        "de prueba\n",
        "y tambien es un\n",
        "tipo de dato\n",
        "\"\"\"\n",
        "print (frase)"
      ],
      "execution_count": 2,
      "outputs": [
        {
          "output_type": "stream",
          "text": [
            "Fes Aragon\n",
            "----------\n",
            "\n",
            "Esta es una frase \n",
            "de prueba\n",
            "y tambien es un\n",
            "tipo de dato\n",
            "\n"
          ],
          "name": "stdout"
        }
      ]
    },
    {
      "cell_type": "markdown",
      "metadata": {
        "id": "YSC8I7xM9-0N"
      },
      "source": [
        "#Print\n",
        "con coma,\n",
        "con signo mas + \n",
        "con format ()\n",
        "con f\"\""
      ]
    },
    {
      "cell_type": "code",
      "metadata": {
        "id": "IGbXVpbB-MR7",
        "outputId": "a656e776-223f-4653-b28a-559baa12618b",
        "colab": {
          "base_uri": "https://localhost:8080/",
          "height": 34
        }
      },
      "source": [
        "nombre = \"Yang\"\n",
        "print (edad, nombre)"
      ],
      "execution_count": 3,
      "outputs": [
        {
          "output_type": "stream",
          "text": [
            "20 Yang\n"
          ],
          "name": "stdout"
        }
      ]
    },
    {
      "cell_type": "code",
      "metadata": {
        "id": "1uOLWiDy_Tz4",
        "outputId": "48f234b3-3e0b-48be-8829-5a8859e83ac5",
        "colab": {
          "base_uri": "https://localhost:8080/",
          "height": 34
        }
      },
      "source": [
        "nombre_completo = \"Yu JiangHua\"\n",
        "print (nombre + nombre_completo)\n",
        "# + solo se concatena strings\n"
      ],
      "execution_count": 4,
      "outputs": [
        {
          "output_type": "stream",
          "text": [
            "YangYu JiangHua\n"
          ],
          "name": "stdout"
        }
      ]
    },
    {
      "cell_type": "markdown",
      "metadata": {
        "id": "CmmFjELqCfzN"
      },
      "source": [
        "# Caracter de Escape\n",
        "\\n cambio de linea\n",
        "\n",
        "\\t tabulador\n",
        "\n",
        "\\a beep\n",
        "\n",
        "\\\\\" imprimir comilla doble\n"
      ]
    },
    {
      "cell_type": "markdown",
      "metadata": {
        "id": "k6PbevJ9DQQC"
      },
      "source": [
        "# Para hacer comentario de multiple linea es con \n",
        "\n",
        "\"\"\"\n",
        "esto es un \n",
        "comentario\n",
        "\"\"\""
      ]
    },
    {
      "cell_type": "code",
      "metadata": {
        "id": "B_vp6nNaDbUV",
        "outputId": "0cee0ebd-e927-4d3d-a5d2-55fc4c3b97b4",
        "colab": {
          "base_uri": "https://localhost:8080/",
          "height": 51
        }
      },
      "source": [
        "print (f\"\\tMi nombre es\\n\\t\\t{nombre}\")"
      ],
      "execution_count": 5,
      "outputs": [
        {
          "output_type": "stream",
          "text": [
            "\tMi nombre es\n",
            "\t\tYang\n"
          ],
          "name": "stdout"
        }
      ]
    },
    {
      "cell_type": "markdown",
      "metadata": {
        "id": "jq3U1ORoEFLT"
      },
      "source": [
        "# Ayuda de tipos de dato en Python\n",
        "dir()\n",
        "\n",
        "help()"
      ]
    },
    {
      "cell_type": "code",
      "metadata": {
        "id": "Q36lc8h1EOTM"
      },
      "source": [
        "#str, int, float, bool ... list, dict, set\n",
        "help (str)"
      ],
      "execution_count": null,
      "outputs": []
    },
    {
      "cell_type": "markdown",
      "metadata": {
        "id": "_pg_ORvsI3Bj"
      },
      "source": [
        "# Slicing (rebanado)\n",
        "[ini:stop:incremento]\n",
        "nota: el stop no cuenta\n"
      ]
    },
    {
      "cell_type": "code",
      "metadata": {
        "id": "s3Xn5GDyJEAX",
        "outputId": "99ca3f61-1dbb-4d33-db9c-09ac5a1b4964",
        "colab": {
          "base_uri": "https://localhost:8080/",
          "height": 68
        }
      },
      "source": [
        "telefono = \"Huawei Nova 5 Pro\"\n",
        "print(telefono[7:11:1])\n",
        "print(telefono[0:11:1])\n",
        "print(telefono)"
      ],
      "execution_count": 13,
      "outputs": [
        {
          "output_type": "stream",
          "text": [
            "Nova\n",
            "Huawei Nova\n",
            "Huawei Nova 5 Pro\n"
          ],
          "name": "stdout"
        }
      ]
    }
  ]
}