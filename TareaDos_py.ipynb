{
  "nbformat": 4,
  "nbformat_minor": 0,
  "metadata": {
    "colab": {
      "name": "TareaDos.py",
      "provenance": [],
      "collapsed_sections": [],
      "authorship_tag": "ABX9TyPWHmsfQRreiwojlenYwvF+",
      "include_colab_link": true
    },
    "kernelspec": {
      "name": "python3",
      "display_name": "Python 3"
    }
  },
  "cells": [
    {
      "cell_type": "markdown",
      "metadata": {
        "id": "view-in-github",
        "colab_type": "text"
      },
      "source": [
        "<a href=\"https://colab.research.google.com/github/YuYangH229/edd_1310_2021/blob/master/TareaDos_py.ipynb\" target=\"_parent\"><img src=\"https://colab.research.google.com/assets/colab-badge.svg\" alt=\"Open In Colab\"/></a>"
      ]
    },
    {
      "cell_type": "code",
      "metadata": {
        "id": "Kw5MhYz5xhap",
        "outputId": "60b76e80-38ec-4a8e-abab-bb2cb02fb736",
        "colab": {
          "base_uri": "https://localhost:8080/",
          "height": 204
        }
      },
      "source": [
        "archivo = open ('Datos.txt' , 'rt')\n",
        "suma_total = 0\n",
        "for linea in archivo.readlines():\n",
        "  suma_renglon = 0\n",
        "  for trunc in linea.split(','):\n",
        "    suma_renglon += int(trunc)\n",
        "  suma_total += suma_renglon\n",
        "  print(suma_renglon)\n",
        "print(suma_total)\n",
        "archivo.close()"
      ],
      "execution_count": 4,
      "outputs": [
        {
          "output_type": "stream",
          "text": [
            "406\n",
            "367\n",
            "814\n",
            "391\n",
            "786\n",
            "513\n",
            "745\n",
            "585\n",
            "154\n",
            "220\n",
            "4981\n"
          ],
          "name": "stdout"
        }
      ]
    }
  ]
}