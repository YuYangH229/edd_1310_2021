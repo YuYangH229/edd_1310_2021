{
  "nbformat": 4,
  "nbformat_minor": 0,
  "metadata": {
    "colab": {
      "name": "27Octubre.ipynb",
      "provenance": [],
      "authorship_tag": "ABX9TyNNYIwdgnaukAPt/yqM5FgX",
      "include_colab_link": true
    },
    "kernelspec": {
      "name": "python3",
      "display_name": "Python 3"
    }
  },
  "cells": [
    {
      "cell_type": "markdown",
      "metadata": {
        "id": "view-in-github",
        "colab_type": "text"
      },
      "source": [
        "<a href=\"https://colab.research.google.com/github/YuYangH229/edd_1310_2021/blob/master/27Octubre.ipynb\" target=\"_parent\"><img src=\"https://colab.research.google.com/assets/colab-badge.svg\" alt=\"Open In Colab\"/></a>"
      ]
    },
    {
      "cell_type": "code",
      "metadata": {
        "id": "DKraziJHCKUM",
        "outputId": "5b9f7a3b-d518-43f9-ac48-d7c05d7b49c5",
        "colab": {
          "base_uri": "https://localhost:8080/",
          "height": 85
        }
      },
      "source": [
        "class Computadora:\n",
        "    def __init__( self , m , p):\n",
        "        self.__marca = m\n",
        "        self.__procesador = p\n",
        "\n",
        "    def to_string( self ):\n",
        "        return \"MArca:\"+self.__marca+\" Procesador:\"+self.__procesador\n",
        "\n",
        "    def set_marca ( self , m ):\n",
        "      self.__marca = m\n",
        "\n",
        "    def get_marca ( self ):\n",
        "      return self.__marca\n",
        "\n",
        "    def set_procesador (self,p):\n",
        "      self.__procesador = p\n",
        "\n",
        "    def get_procesador (self):\n",
        "      return self.__procesador\n",
        "\n",
        "mi_pc = Computadora(\"Toshiba\",\"Intel i7\")\n",
        "print(mi_pc.to_string())\n",
        "mi_pc.__marca=\"HP \"\n",
        "mi_pc.set_marca(\"HP co\")\n",
        "print (mi_pc.to_string())\n",
        "#print (mi.pc.__procesador)\n",
        "print (mi_pc.get_procesador())\n",
        "print(mi_pc.to_string())"
      ],
      "execution_count": 7,
      "outputs": [
        {
          "output_type": "stream",
          "text": [
            "MArca:Toshiba Procesador:Intel i7\n",
            "MArca:HP co Procesador:Intel i7\n",
            "Intel i7\n",
            "MArca:HP co Procesador:Intel i7\n"
          ],
          "name": "stdout"
        }
      ]
    },
    {
      "cell_type": "markdown",
      "metadata": {
        "id": "nSinmuJiEYfU"
      },
      "source": [
        "\n",
        "#encapsulamiento python 3\n",
        "## tradicional tipo Java\n",
        "    void setAtributo ( val )\n",
        "    tipo getAtributo ()\n",
        "##estilo python 3\n",
        "utilizando decoradores\n",
        "- @property \n",
        "- @atributo.setter\n",
        "\n",
        "\n"
      ]
    },
    {
      "cell_type": "code",
      "metadata": {
        "id": "szYFvlaZIkUo",
        "outputId": "36dc9056-5bc7-424b-8ad6-b00c99e2c4f0",
        "colab": {
          "base_uri": "https://localhost:8080/",
          "height": 102
        }
      },
      "source": [
        "class Computadora:\n",
        "  def __init__(self , m , p):\n",
        "    self.marca = m\n",
        "    self.procesador = p \n",
        "  @property  #se declara como atributo privado y funciona como metodo get\n",
        "  def marca ( self ):\n",
        "    return self.__marca\n",
        "\n",
        "  @marca.setter\n",
        "  def marca (self , m ):\n",
        "    print (\"en el setter de marca\")\n",
        "    self.__marca = m\n",
        "\n",
        "  @property \n",
        "  def procesador (self):\n",
        "    return self.__procesador\n",
        "\n",
        "  @procesador.setter\n",
        "  def procesador (self , p):\n",
        "    print (\"En el metodo set de procesador\")\n",
        "    self.__procesador = p\n",
        "\n",
        "  def to_string (self):\n",
        "    return \"marca: \" + self.marca + \" procesador: \" + self.procesador\n",
        "\n",
        "mi_pc2 = Computadora (\"Mac Book pro\" , \"Intel i7\")\n",
        "print (mi_pc2.to_string())\n",
        "mi_pc2.marca = \"Dell\"\n",
        "print (mi_pc2.to_string())\n"
      ],
      "execution_count": 8,
      "outputs": [
        {
          "output_type": "stream",
          "text": [
            "en el setter de marca\n",
            "En el metodo set de procesador\n",
            "marca: Mac Book pro procesador: Intel i7\n",
            "en el setter de marca\n",
            "marca: Dell procesador: Intel i7\n"
          ],
          "name": "stdout"
        }
      ]
    },
    {
      "cell_type": "code",
      "metadata": {
        "id": "jn3pOwi2QiWN",
        "outputId": "361ccc2a-6536-48cb-ab91-74d9773f119d",
        "colab": {
          "base_uri": "https://localhost:8080/",
          "height": 85
        }
      },
      "source": [
        "# Herencia , pasando la clase base a la declaracion\n",
        "class ServidorEmpresarial ( Computadora ):\n",
        "  def __init__ (self):\n",
        "    print (\"Hola servidor\")\n",
        "\n",
        "server = ServidorEmpresarial ()\n",
        "server.marca = \"Sun Micro System\"\n",
        "server.procesador = \"Intel i7\"\n",
        "print (server.to_string())"
      ],
      "execution_count": 10,
      "outputs": [
        {
          "output_type": "stream",
          "text": [
            "Hola servidor\n",
            "en el setter de marca\n",
            "En el metodo set de procesador\n",
            "marca: Sun Micro System procesador: Intel i7\n"
          ],
          "name": "stdout"
        }
      ]
    },
    {
      "cell_type": "markdown",
      "metadata": {
        "id": "Ho7lBZBvSBZ9"
      },
      "source": [
        ""
      ]
    }
  ]
}