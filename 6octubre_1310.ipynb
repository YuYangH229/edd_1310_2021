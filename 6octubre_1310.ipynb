{
  "nbformat": 4,
  "nbformat_minor": 0,
  "metadata": {
    "colab": {
      "name": "6octubre_1310.ipynb",
      "provenance": [],
      "collapsed_sections": [],
      "authorship_tag": "ABX9TyN9D2K3ON29pYwtRJ5jrXzh",
      "include_colab_link": true
    },
    "kernelspec": {
      "name": "python3",
      "display_name": "Python 3"
    }
  },
  "cells": [
    {
      "cell_type": "markdown",
      "metadata": {
        "id": "view-in-github",
        "colab_type": "text"
      },
      "source": [
        "<a href=\"https://colab.research.google.com/github/YuYangH229/edd_1310_2021/blob/master/6octubre_1310.ipynb\" target=\"_parent\"><img src=\"https://colab.research.google.com/assets/colab-badge.svg\" alt=\"Open In Colab\"/></a>"
      ]
    },
    {
      "cell_type": "code",
      "metadata": {
        "id": "H_i80B7prKrk",
        "outputId": "05672ee7-1296-4568-b983-93d5227b77ee",
        "colab": {
          "base_uri": "https://localhost:8080/",
          "height": 68
        }
      },
      "source": [
        "#String continuación\n",
        "\n",
        "numeros_txt = \"  1, 2, 3, 4  , 5   , 35    , 15   , 12\"\n",
        "print (numeros_txt)\n",
        "numeros_txt = numeros_txt.lstrip().split(\",\")\n",
        "print (numeros_txt)\n",
        "\n",
        "for j in range(len(numeros_txt)):\n",
        "  numeros_txt[ j ] = int(numeros_txt[j].strip())\n",
        "\n",
        "print (numeros_txt)"
      ],
      "execution_count": 5,
      "outputs": [
        {
          "output_type": "stream",
          "text": [
            "  1, 2, 3, 4  , 5   , 35    , 15   , 12\n",
            "['1', ' 2', ' 3', ' 4  ', ' 5   ', ' 35    ', ' 15   ', ' 12']\n",
            "[1, 2, 3, 4, 5, 35, 15, 12]\n"
          ],
          "name": "stdout"
        }
      ]
    },
    {
      "cell_type": "code",
      "metadata": {
        "id": "7lobNYVUv0eB",
        "outputId": "91e1322f-bc5e-4728-f3fc-1486b33bb60f",
        "colab": {
          "base_uri": "https://localhost:8080/",
          "height": 306
        }
      },
      "source": [
        "# funcion range\n",
        "\n",
        "# range(inicio, stop, incremento)\n",
        "print (range(0,10,1))\n",
        "rango = range(2,20,3)\n",
        "\n",
        "for x in rango:\n",
        "  print(x)\n",
        "\n",
        "rango = range(10)\n",
        "for x in rango:\n",
        "  print (x)"
      ],
      "execution_count": 10,
      "outputs": [
        {
          "output_type": "stream",
          "text": [
            "range(0, 10)\n",
            "2\n",
            "5\n",
            "8\n",
            "11\n",
            "14\n",
            "17\n",
            "0\n",
            "1\n",
            "2\n",
            "3\n",
            "4\n",
            "5\n",
            "6\n",
            "7\n",
            "8\n",
            "9\n"
          ],
          "name": "stdout"
        }
      ]
    },
    {
      "cell_type": "markdown",
      "metadata": {
        "id": "mobqIgmvxF86"
      },
      "source": [
        "#Listas\n",
        "\n",
        "- mutables\n",
        "- declaran con ( )\n",
        "- selector [ int ]\n",
        "- puede ser de cualquier \n",
        "\n",
        "#Tuplas \n",
        "- NO mutables\n",
        "- declaran con ( )\n",
        "- selectos [ int ]\n",
        "\n",
        "#Diccionarios\n",
        "- Son mutables\n",
        "- Son conjunto de pares llave.valor\n",
        "- Equivalente a los objetos JSON de Javascript\n",
        "\n",
        "#Conjuntos \n",
        "- Representacion de la teoria de conjuntos\n"
      ]
    },
    {
      "cell_type": "code",
      "metadata": {
        "id": "c6HMLOOEyQbq",
        "outputId": "248173c8-f2a7-40ce-8e84-17bc7d6fe58d",
        "colab": {
          "base_uri": "https://localhost:8080/",
          "height": 221
        }
      },
      "source": [
        "# Listas (equivalente a arreglos en otras lenguajes)\n",
        "frutas = [\"Pera\" , \"Manzana\", \"Fresa\" , \"Kiwi\" , \"Naranja\"]\n",
        "print (frutas)\n",
        "cosas = [\"cuaderno\" , 2 , 3.1416 , True , [\"Rojo\" , \"Azul\" , \"verde\"]]\n",
        "print (cosas)\n",
        "cosas[0] = \"Cuaderno\"   # cosas[0] = cosas[0].capitalize()\n",
        "print (cosas)\n",
        "#agrega a la lista\n",
        "frutas.append(\"Uva\") #agregar hasta el final\n",
        "print (frutas)\n",
        "frutas.insert(2, \"Sandia\") #agregar en una posicion que indique\n",
        "print (frutas)\n",
        "\n",
        "#ajustar\n",
        "fecha = [\"06\" , \"10\" , \"2020\"]\n",
        "print (fecha)\n",
        "fecha_str = \"/\".join(fecha)\n",
        "print (fecha_str)\n",
        "\n",
        "#eliminar elementos\n",
        "print (cosas)\n",
        "cosas.append(\"lapiz\")\n",
        "print (cosas)\n",
        "algo = cosas.pop() #guardar el variable en algo, porsteriormente se puede imprimirlo, o reutilizarlo\n",
        "print (algo)\n",
        "algo = cosas.pop(2)\n",
        "print (algo)\n",
        "print (cosas)\n"
      ],
      "execution_count": 32,
      "outputs": [
        {
          "output_type": "stream",
          "text": [
            "['Pera', 'Manzana', 'Fresa', 'Kiwi', 'Naranja']\n",
            "['cuaderno', 2, 3.1416, True, ['Rojo', 'Azul', 'verde']]\n",
            "['Cuaderno', 2, 3.1416, True, ['Rojo', 'Azul', 'verde']]\n",
            "['Pera', 'Manzana', 'Fresa', 'Kiwi', 'Naranja', 'Uva']\n",
            "['Pera', 'Manzana', 'Sandia', 'Fresa', 'Kiwi', 'Naranja', 'Uva']\n",
            "['06', '10', '2020']\n",
            "06/10/2020\n",
            "['Cuaderno', 2, 3.1416, True, ['Rojo', 'Azul', 'verde']]\n",
            "['Cuaderno', 2, 3.1416, True, ['Rojo', 'Azul', 'verde'], 'lapiz']\n",
            "lapiz\n",
            "3.1416\n",
            "['Cuaderno', 2, True, ['Rojo', 'Azul', 'verde']]\n"
          ],
          "name": "stdout"
        }
      ]
    },
    {
      "cell_type": "code",
      "metadata": {
        "id": "-IYUSfAs5z-u",
        "outputId": "36955c1e-351f-413b-c1ab-5452f0a952d4",
        "colab": {
          "base_uri": "https://localhost:8080/",
          "height": 170
        }
      },
      "source": [
        "#ordenar\n",
        "print(frutas)\n",
        "frutas.sort()\n",
        "print (frutas)\n",
        "\n",
        "#para hacer slicing\n",
        "cosas = [\"cuaderno\" , 2 , 3.1416 , True , [\"Rojo\" , \"Azul\" , \"verde\"]]\n",
        "print (cosas [3:6:1])\n",
        "print (cosas)\n",
        "print (cosas[0][2:5:1])\n",
        "\n",
        "numeros = [0, 1, 2, 3, 4, 5, 6, 7, 8, 9, 10, 11, 12, 13, 14, 15]\n",
        "print (numeros[8:13:1])\n",
        "\n",
        "#sustituir de la lista de numero\n",
        "numeros[8:13:1] = [-2, -2]\n",
        "print (numeros)\n",
        "\n",
        "#preguntar por exixtencia\n",
        "print (-2 in numeros)\n",
        "print (100 in numeros)"
      ],
      "execution_count": 41,
      "outputs": [
        {
          "output_type": "stream",
          "text": [
            "['Fresa', 'Kiwi', 'Manzana', 'Naranja', 'Pera', 'Sandia', 'Uva']\n",
            "['Fresa', 'Kiwi', 'Manzana', 'Naranja', 'Pera', 'Sandia', 'Uva']\n",
            "[True, ['Rojo', 'Azul', 'verde']]\n",
            "['cuaderno', 2, 3.1416, True, ['Rojo', 'Azul', 'verde']]\n",
            "ade\n",
            "[8, 9, 10, 11, 12]\n",
            "[0, 1, 2, 3, 4, 5, 6, 7, -2, -2, 13, 14, 15]\n",
            "True\n",
            "False\n"
          ],
          "name": "stdout"
        }
      ]
    },
    {
      "cell_type": "markdown",
      "metadata": {
        "id": "ebRPZh4w_hPI"
      },
      "source": [
        "#Lista multi dimension\n",
        "\n",
        "lista dentro de listas"
      ]
    },
    {
      "cell_type": "code",
      "metadata": {
        "id": "OzSkqIwB_lY1",
        "outputId": "cde55463-639a-4e5f-861a-fcb285754dd3",
        "colab": {
          "base_uri": "https://localhost:8080/",
          "height": 102
        }
      },
      "source": [
        "computadora = [\"HP\", \"Lenovo\", \"Mac\", \"Matebook\"]\n",
        "oss = [\"Windows 10\", \"Linux\", \"android\", \"iOS\"]\n",
        "\n",
        "computo = [computadora,oss]\n",
        "print (computo [0])\n",
        "print (computo [1])\n",
        "print (computo [0][1])\n",
        "print (computo [1][2])\n",
        "print (computo[0][2][0:3:1])"
      ],
      "execution_count": 44,
      "outputs": [
        {
          "output_type": "stream",
          "text": [
            "['HP', 'Lenovo', 'Mac', 'Matebook']\n",
            "['Windows 10', 'Linux', 'android', 'iOS']\n",
            "Lenovo\n",
            "android\n",
            "Mac\n"
          ],
          "name": "stdout"
        }
      ]
    },
    {
      "cell_type": "code",
      "metadata": {
        "id": "gVJaEFn3A4Qr",
        "outputId": "b59ce4ef-0472-4682-82e5-e2a085fee90b",
        "colab": {
          "base_uri": "https://localhost:8080/",
          "height": 71
        }
      },
      "source": [
        "dbms = [[\"Mysql\", \"Open Source\", False] , [\"MS SQL Server\" , \"de paga\" , True]]\n",
        "computo.append(dbms)\n",
        "print (computo)\n",
        "print (computo[3][1][1])"
      ],
      "execution_count": 47,
      "outputs": [
        {
          "output_type": "stream",
          "text": [
            "[['HP', 'Lenovo', 'Mac', 'Matebook'], ['Windows 10', 'Linux', 'android', 'iOS'], [['Mysql', 'Open Source', False], ['MS SQL Server', 'de paga', True]], [['Mysql', 'Open Source', False], ['MS SQL Server', 'de paga', True]], [['Mysql', 'Open Source', False], ['MS SQL Server', 'de paga', True]]]\n",
            "de paga\n"
          ],
          "name": "stdout"
        }
      ]
    }
  ]
}